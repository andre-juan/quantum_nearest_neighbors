{
 "cells": [
  {
   "cell_type": "markdown",
   "metadata": {},
   "source": [
    "# Quantum Nearest Neighbors\n",
    "\n",
    "____________\n",
    "\n",
    "In this Notebook, I implement the algorithm introduced in [this paper](https://arxiv.org/pdf/1412.3646.pdf) by [Maria Schuld](https://scholar.google.com/citations?user=_ih_hwUAAAAJ&hl=en), [Ilya Sinayskiy](https://scholar.google.co.za/citations?user=tL1_WfsAAAAJ&hl=en) and [Francesco Petruccione](https://scholar.google.com/citations?user=chM4fT4AAAAJ&hl=en).\n",
    "\n",
    "See [this notebook](./quantum-nearest-neighbors_theory.ipynb) for details about the algorithm and the kind of problems it addresses.\n",
    "\n",
    "In this implementation, I construct the model for arbitrary dataset size $N$ and dimension $n$, and focus on binary classification. The elements of the algorithm are encapsulated in functions.\n",
    "\n",
    "Test cases are provided in the end, but if one wishes to visualize intermediate steps, please see [this implementation](./quantum-nearest-neighbors_particular.ipynb) of a particular $N=n=4$ case, in which all details are discussed, and analytical computations are provided.\n",
    "\n",
    "____________"
   ]
  },
  {
   "cell_type": "code",
   "execution_count": 1,
   "metadata": {
    "ExecuteTime": {
     "end_time": "2021-05-11T23:34:36.831135Z",
     "start_time": "2021-05-11T23:34:34.516492Z"
    }
   },
   "outputs": [],
   "source": [
    "import numpy as np\n",
    "from scipy.linalg import expm\n",
    "\n",
    "from qiskit import QuantumRegister, ClassicalRegister, QuantumCircuit, Aer, execute\n",
    "\n",
    "from qiskit.circuit import AncillaQubit\n",
    "\n",
    "from qiskit.visualization import plot_histogram\n",
    "\n",
    "from qiskit.circuit.library.standard_gates import XGate, ZGate, HGate\n",
    "\n",
    "from qiskit.circuit.add_control import add_control\n",
    "\n",
    "from qiskit.extensions import UnitaryGate"
   ]
  },
  {
   "cell_type": "code",
   "execution_count": 2,
   "metadata": {
    "ExecuteTime": {
     "end_time": "2021-05-11T23:34:36.838112Z",
     "start_time": "2021-05-11T23:34:36.833675Z"
    }
   },
   "outputs": [],
   "source": [
    "import matplotlib.pyplot as plt\n",
    "\n",
    "def show_figure(fig):\n",
    "    '''\n",
    "    auxiliar function to display plot \n",
    "    even if it's not the last command of the cell\n",
    "    from: https://github.com/Qiskit/qiskit-terra/issues/1682\n",
    "    '''\n",
    "    \n",
    "    new_fig = plt.figure()\n",
    "    new_mngr = new_fig.canvas.manager\n",
    "    new_mngr.canvas.figure = fig\n",
    "    fig.set_canvas(new_mngr.canvas)\n",
    "    plt.show(fig)"
   ]
  },
  {
   "cell_type": "code",
   "execution_count": 3,
   "metadata": {
    "ExecuteTime": {
     "end_time": "2021-05-11T23:34:36.931988Z",
     "start_time": "2021-05-11T23:34:36.841314Z"
    }
   },
   "outputs": [],
   "source": [
    "def test_circuit(qc):\n",
    "    ''' \n",
    "    auxiliar function, to test intermediate steps, looking at measurement results\n",
    "    this function allows the inspection of the amplitudes of states, \n",
    "    at any point of the circuit (call it with the desired circuit)\n",
    "    '''\n",
    "    \n",
    "    cr = ClassicalRegister(qc.num_qubits, \"creg_test\")\n",
    "    qc_cr = QuantumCircuit(cr)\n",
    "\n",
    "    qc_test = qc + qc_cr\n",
    "\n",
    "    for i in range(qc.num_qubits):\n",
    "        qc_test.measure(i, i)\n",
    "\n",
    "    #################################\n",
    "\n",
    "    backend = Aer.get_backend(\"qasm_simulator\")\n",
    "\n",
    "    job = execute(qc_test, backend, shots=1e5, seed_simulator=42)\n",
    "    results = job.result()\n",
    "    counts = results.get_counts()\n",
    "\n",
    "    return plot_histogram(counts, title=\"Results\", figsize=(12, 4))"
   ]
  },
  {
   "cell_type": "markdown",
   "metadata": {},
   "source": [
    "_________\n",
    "\n",
    "## Step 0 - state preparation"
   ]
  },
  {
   "cell_type": "markdown",
   "metadata": {},
   "source": [
    "__Input vector (to be classified)__\n",
    "\n",
    "Construct $\\left | \\vec{x} \\right > = \\left |x_1 \\cdots x_n\\right > , x_k \\in \\{0,1\\}$."
   ]
  },
  {
   "cell_type": "code",
   "execution_count": 4,
   "metadata": {
    "ExecuteTime": {
     "end_time": "2021-05-11T23:34:37.038976Z",
     "start_time": "2021-05-11T23:34:36.935203Z"
    }
   },
   "outputs": [],
   "source": [
    "def construct_input_state(X_test):\n",
    "    '''\n",
    "    construct quantum state from bit string X_test\n",
    "    '''\n",
    "\n",
    "    # number of features\n",
    "    n = len(X_test)\n",
    "\n",
    "    # build the circuit\n",
    "    \n",
    "    qr_input = QuantumRegister(n, \"features_input\")\n",
    "    qc_input = QuantumCircuit(qr_input)\n",
    "\n",
    "    for i in range(n):\n",
    "        if X_test[i] == \"1\":\n",
    "            qc_input.x(i)\n",
    "        \n",
    "    return qc_input"
   ]
  },
  {
   "cell_type": "markdown",
   "metadata": {},
   "source": [
    "______\n",
    "\n",
    "__Training set__\n",
    "\n",
    "Construct $ \\left | T \\right > = \\frac{1}{\\sqrt{N}} \\sum_{p=1}^N \\left |\\vec{v}^p, c^p \\right >  $ for binary classification ($c^p \\in \\{0, 1\\}$)"
   ]
  },
  {
   "cell_type": "code",
   "execution_count": 5,
   "metadata": {
    "ExecuteTime": {
     "end_time": "2021-05-11T23:34:37.129699Z",
     "start_time": "2021-05-11T23:34:37.040719Z"
    }
   },
   "outputs": [],
   "source": [
    "def construct_training_set_state(X, y):\n",
    "    '''\n",
    "    construct quantum superposition of training dataset from:\n",
    "    - X: feature matrix\n",
    "    - y: target array\n",
    "    returns the circuit as well as the number of features, n\n",
    "    '''\n",
    "    \n",
    "    # number of examples\n",
    "    N = X.shape[0]\n",
    "\n",
    "    # number of features\n",
    "    n = X.shape[1]\n",
    "\n",
    "    # full dataset, of the form [[X], [y]]\n",
    "    dataset = np.append(X, y.reshape((-1, 1)), axis=1)\n",
    "    \n",
    "    # n+1 because the last register will encode the class!\n",
    "    amplitudes = np.zeros(2**(n+1))\n",
    "    \n",
    "    # integer representation of binary strings in training dataset\n",
    "    # notice the [::-1], which is necessary to adjust the endianness!\n",
    "    data_points_X = [int(\"\".join(str(i) for i in X[j])[::-1], 2) for j in range(dataset.shape[0])]\n",
    "    \n",
    "    # integer representation considering also the class\n",
    "    # IMPORTANT: sum 2**n for elements in class 1\n",
    "    # this is necessary to encode also the class, in n+1 registers!\n",
    "    data_points = [x + 2**n if y[i] == 1 else x for i, x in enumerate(data_points_X)]\n",
    "    \n",
    "    # set amplitudesof existing datapoints\n",
    "    amplitudes[data_points] = 1\n",
    "    \n",
    "    # normalize amplitudes\n",
    "    amplitudes = amplitudes/np.sqrt(amplitudes.sum())\n",
    "    \n",
    "    ###################################################\n",
    "    \n",
    "    # build the circuit\n",
    "    \n",
    "    qr_features = QuantumRegister(n, \"features_train\")\n",
    "    qr_target = QuantumRegister(1, \"target_train\")\n",
    "\n",
    "    qc_training = QuantumCircuit(qr_features, qr_target)\n",
    "\n",
    "    qc_training.initialize(amplitudes, [qr_features, qr_target])\n",
    "        \n",
    "    return qc_training, n"
   ]
  },
  {
   "cell_type": "markdown",
   "metadata": {},
   "source": [
    "__________\n",
    "\n",
    "__Ancilla__\n",
    "\n",
    "Add an ancilla register initialized as $\\left | 0 \\right >$"
   ]
  },
  {
   "cell_type": "code",
   "execution_count": 6,
   "metadata": {
    "ExecuteTime": {
     "end_time": "2021-05-11T23:34:37.235679Z",
     "start_time": "2021-05-11T23:34:37.132841Z"
    }
   },
   "outputs": [],
   "source": [
    "def construct_ancilla_state():\n",
    "    '''\n",
    "    construct ancilla register\n",
    "    '''\n",
    "    \n",
    "    # build the circuit\n",
    "    \n",
    "    qr_anc = QuantumRegister(1, \"anc\")\n",
    "    qc_anc = QuantumCircuit(qr_anc)\n",
    "\n",
    "    qc_anc.draw(\"mpl\")\n",
    "        \n",
    "    return qc_anc"
   ]
  },
  {
   "cell_type": "markdown",
   "metadata": {},
   "source": [
    "_________"
   ]
  },
  {
   "cell_type": "markdown",
   "metadata": {},
   "source": [
    "\n",
    "__Full circuit for initial state $\\left | \\psi_0 \\right >$__\n",
    "\n",
    "Construct $ \\left | \\psi_0 \\right > = \\frac{1}{\\sqrt{N}} \\sum_{p=1}^N \\left |\\vec{x}, \\vec{v}^p, c^p \\right > \\otimes \\left | 0 \\right > $"
   ]
  },
  {
   "cell_type": "code",
   "execution_count": 7,
   "metadata": {
    "ExecuteTime": {
     "end_time": "2021-05-11T23:34:37.320699Z",
     "start_time": "2021-05-11T23:34:37.239067Z"
    }
   },
   "outputs": [],
   "source": [
    "def construct_initial_state(X, y, X_test, draw=False):\n",
    "    '''\n",
    "    conjugate elements of the initial state (input, training dataset and ancilla) in a\n",
    "    single quantum circuit\n",
    "    returns the circuit as well as the number of features, n\n",
    "    '''\n",
    "    \n",
    "    qc_input = construct_input_state(X_test)\n",
    "    \n",
    "    qc_training, n = construct_training_set_state(X, y)\n",
    "    \n",
    "    qc_anc = construct_ancilla_state()\n",
    "    \n",
    "    qc = qc_input + qc_training + qc_anc\n",
    "\n",
    "    qc.barrier()\n",
    "\n",
    "    if draw:\n",
    "        print(\"\\nInitial state:\")\n",
    "        show_figure(qc.draw(\"mpl\"))\n",
    "    \n",
    "    return qc, n"
   ]
  },
  {
   "cell_type": "markdown",
   "metadata": {},
   "source": [
    "_________\n",
    "\n",
    "## Quantum algorithm"
   ]
  },
  {
   "cell_type": "markdown",
   "metadata": {},
   "source": [
    "__Step 1: ancilla in superposition__\n",
    "\n",
    "$ \\left | \\psi_1 \\right > = H_{\\text{anc}} \\left | \\psi_0 \\right > $"
   ]
  },
  {
   "cell_type": "code",
   "execution_count": 8,
   "metadata": {
    "ExecuteTime": {
     "end_time": "2021-05-11T23:34:37.428608Z",
     "start_time": "2021-05-11T23:34:37.323733Z"
    }
   },
   "outputs": [],
   "source": [
    "def step1(qc, draw=False):\n",
    "    \n",
    "    qc.h(-1)\n",
    "\n",
    "    qc.barrier()\n",
    "\n",
    "    if draw:\n",
    "        print(\"\\nStep 1:\")\n",
    "        show_figure(qc.draw(\"mpl\"))\n",
    "        \n",
    "    return qc"
   ]
  },
  {
   "cell_type": "markdown",
   "metadata": {},
   "source": [
    "__Step 2: hamming distance into the second register__\n",
    "\n",
    "$ \\left | \\psi_2 \\right > = \\prod_{k=1}^{n=4} \\mathrm{cNOT}(x_k, v^p_k) \\left | \\psi_1 \\right >$"
   ]
  },
  {
   "cell_type": "code",
   "execution_count": 9,
   "metadata": {
    "ExecuteTime": {
     "end_time": "2021-05-11T23:34:37.515841Z",
     "start_time": "2021-05-11T23:34:37.431922Z"
    }
   },
   "outputs": [],
   "source": [
    "def step2(qc, n, draw=False):\n",
    "    \n",
    "    for i in range(n):\n",
    "\n",
    "        qc.cnot(i, n+i)\n",
    "\n",
    "    qc.barrier()\n",
    "\n",
    "    if draw:\n",
    "        print(\"\\nStep 2:\")\n",
    "        show_figure(qc.draw(\"mpl\"))\n",
    "        \n",
    "    return qc"
   ]
  },
  {
   "cell_type": "markdown",
   "metadata": {},
   "source": [
    "__Step 3: hamming distance extracted to phase__\n",
    "\n",
    "$ U = e^{ -i\\frac{\\pi }{2n} H}  \\ ; \\qquad\\; H = 1 \\otimes \\sum_{k=1}^n \\left(\\frac{1-\\sigma_z}{2}\\right)_{d_k}  \\otimes 1 \\otimes \\sigma_z \\ ; $\n",
    "\n",
    "\n",
    "$ \\left | \\psi_3 \\right > = U \\left | \\psi_2 \\right >$\n",
    "\n",
    "\n",
    "\n",
    "Notice that $H$ is defined in terms of operators acting in each one of the 4 \"registers\" (input, train/hamming distance, class, ancilla).\n",
    "\n",
    "Let's write the (single-qubit) unitaries which will be applied to each qubit of the respective register.\n",
    "\n",
    "__UPDATE__: actually, we can extract the Hamming distance to the exponential phase by applying:\n",
    "\n",
    "- $e^{  U_1^-} \\ ; U_1^- = -i\\frac{\\pi }{2n} \\sum_{k=1}^n \\left(\\frac{1-\\sigma_z}{2}\\right)_{d_k}$ to the second register if the ancilla is $\\left | 0 \\right >$ ; \n",
    "\n",
    "- $e^{ U_1^+} \\ ; U_1^+ = i\\frac{\\pi }{2n} \\sum_{k=1}^n \\left(\\frac{1-\\sigma_z}{2}\\right)_{d_k}$ to the second register if the ancilla is $\\left | 1 \\right >$ ; \n",
    "\n",
    "We do this with controlled unitaries (control: ancillar; target: respective registers)! Let's build them below."
   ]
  },
  {
   "cell_type": "code",
   "execution_count": 10,
   "metadata": {
    "ExecuteTime": {
     "end_time": "2021-05-11T23:34:37.603278Z",
     "start_time": "2021-05-11T23:34:37.517903Z"
    }
   },
   "outputs": [],
   "source": [
    "def step3(qc, n, draw):\n",
    "    \n",
    "    # matrices of 1 and \\sigma_z to be exponentiated below\n",
    "    # source of the matrix exponential methods below:\n",
    "    # https://quantumcomputing.stackexchange.com/questions/10317/quantum-circuit-to-implement-matrix-exponential\n",
    "\n",
    "    idtt = np.eye(2)\n",
    "\n",
    "    sz = np.array([[1,0], \n",
    "                   [0,-1]])\n",
    "    \n",
    "    ###################################################\n",
    "    \n",
    "    # define the exponentiated unitaries\n",
    "    U_1_minus = expm(-1j * (np.pi/(2*4)) * ((idtt-sz)/2))\n",
    "    U_1_plus = expm(1j * (np.pi/(2*4)) * ((idtt-sz)/2))\n",
    "\n",
    "    # defining controlled gates\n",
    "    u1m = add_control(operation=UnitaryGate(U_1_minus, label=\"$U_1^-$\"),\n",
    "                      num_ctrl_qubits=1, ctrl_state=0, label=\"$CU_1^-$\")\n",
    "\n",
    "    u1p = add_control(operation=UnitaryGate(U_1_plus, label=\"$U_1^+$\"),\n",
    "                      num_ctrl_qubits=1, ctrl_state=1, label=\"$CU_1^+$\")\n",
    "\n",
    "\n",
    "    # getting the registers\n",
    "    registers = qc.qregs\n",
    "    \n",
    "    # register labels\n",
    "    registers_labels = [qr.name for qr in qc.qregs]\n",
    "\n",
    "    qr_features = registers[registers_labels.index(\"features_train\")]\n",
    "    qr_anc = registers[registers_labels.index(\"anc\")]\n",
    "    \n",
    "    # build a circuit to apply the unitary above\n",
    "    # this will be combined with the main circuit later on (notice: same registers!!).\n",
    "    qc_u = QuantumCircuit(qr_features, qr_anc)\n",
    "\n",
    "    for i in range(n):\n",
    "\n",
    "        # apply the unitaries\n",
    "        qc_u.append(u1p, [qr_anc[0], qr_features[i]])\n",
    "        qc_u.append(u1m, [qr_anc[0], qr_features[i]])\n",
    "    \n",
    "    ###################################################\n",
    "    \n",
    "    # combine the U circuit above to the main circuit\n",
    "    qc = qc.combine(qc_u)\n",
    "\n",
    "    qc.barrier()\n",
    "    \n",
    "    ###################################################\n",
    "    \n",
    "    if draw:\n",
    "        print(\"\\nStep 3:\")\n",
    "        show_figure(qc.draw(\"mpl\"))\n",
    "        \n",
    "    return qc"
   ]
  },
  {
   "cell_type": "markdown",
   "metadata": {},
   "source": [
    "__Step 4: ancilla in superposition__\n",
    "\n",
    "$ \\left | \\psi_4 \\right > = H_{\\text{anc}} \\left | \\psi_3 \\right >$"
   ]
  },
  {
   "cell_type": "code",
   "execution_count": 11,
   "metadata": {
    "ExecuteTime": {
     "end_time": "2021-05-11T23:34:37.710064Z",
     "start_time": "2021-05-11T23:34:37.605548Z"
    }
   },
   "outputs": [],
   "source": [
    "def step4(qc, draw):\n",
    "    \n",
    "    qc.h(-1)\n",
    "\n",
    "    qc.barrier()\n",
    "\n",
    "    if draw:\n",
    "        print(\"\\nStep 4:\")\n",
    "        show_figure(qc.draw(\"mpl\"))\n",
    "        \n",
    "    return qc"
   ]
  },
  {
   "cell_type": "markdown",
   "metadata": {},
   "source": [
    "_________\n",
    "\n",
    "## Step 5 - Measurement\n",
    "\n",
    "Now, it's convenient to write $\\left | \\psi_4 \\right >$ as\n",
    "\n",
    "$\\left |\\psi_4\\right > = \\frac{1}{\\sqrt{N}} \\sum \\limits_{c=1}^d \\left |c\\right > \\otimes \\sum \\limits_{l\\in c} \\left ( \\mathrm{cos}\\left( \\frac{\\pi d_H}{2n}\\right)  \\left |\\vec{x};\\vec{d}^l; 0\\right > +  \\mathrm{sin}\\left( \\frac{\\pi d_H}{2n}\\right)  \\left |\\vec{x};\\vec{d}^l; 1\\right > \\right ) . $\n",
    "\n",
    "First, we measure the ancilla qubit; then, the class qubit.\n",
    "\n",
    "The probability of measuring the ancilla qubit to be in $\\left | 0 \\right >$ is\n",
    "\n",
    "$ P(\\left | 0 \\right >_a) = \\left |   \\left < 0 | \\psi_4 \\right >  \\right |^2 =  \\frac{1}{N} \\sum_{p=1}^{N=4}  \\cos^2\\left (\\frac{\\pi d_H}{2n} \\right)$\n",
    "\n",
    "The probability of measuring the qubit in a given class $c$, given that the ancilla was beasured to be in $\\left | 0 \\right >$, is\n",
    "\n",
    "$P(c) =  \\frac{1}{ P(\\left | 0 \\right >_a)}\\frac{1}{N} \\sum \\limits_{l\\in c} \\cos^2\\left (\\frac{\\pi d_H}{2n} \\right) = \\frac{1}{2} \\sum \\limits_{l\\in c} \\cos^2\\left (\\frac{\\pi d_H}{2n} \\right) \\ , $\n"
   ]
  },
  {
   "cell_type": "code",
   "execution_count": 12,
   "metadata": {
    "ExecuteTime": {
     "end_time": "2021-05-11T23:34:37.796620Z",
     "start_time": "2021-05-11T23:34:37.712353Z"
    }
   },
   "outputs": [],
   "source": [
    "def measurement(qc, draw_final):\n",
    "    '''\n",
    "    implements the measurement of the circuit\n",
    "    '''\n",
    "    \n",
    "    # getting the registers\n",
    "    registers = qc.qregs\n",
    "    registers_labels = [qr.name for qr in qc.qregs]\n",
    "\n",
    "    qr_anc = registers[registers_labels.index(\"anc\")]\n",
    "    qr_target = registers[registers_labels.index(\"target_train\")]\n",
    "    \n",
    "    ###########################3\n",
    "    \n",
    "    cr_anc = ClassicalRegister(1, \"c_anc\")\n",
    "    qc_cr_anc = QuantumCircuit(cr_anc)\n",
    "\n",
    "    cr_class = ClassicalRegister(1, \"c_class\")\n",
    "    qc_cr_class = QuantumCircuit(cr_class)\n",
    "\n",
    "    qc = qc + qc_cr_anc + qc_cr_class\n",
    "\n",
    "    qc.measure(qr_anc, cr_anc)\n",
    "    qc.measure(qr_target, cr_class)\n",
    "\n",
    "    if draw_final:\n",
    "        print(\"\\nStep 5 (measurement):\")\n",
    "        show_figure(qc.draw(\"mpl\"))\n",
    "        \n",
    "    return qc"
   ]
  },
  {
   "cell_type": "markdown",
   "metadata": {
    "ExecuteTime": {
     "end_time": "2021-05-11T22:17:39.912237Z",
     "start_time": "2021-05-11T22:17:39.906239Z"
    }
   },
   "source": [
    "__Finally, execution and final answer__"
   ]
  },
  {
   "cell_type": "code",
   "execution_count": 13,
   "metadata": {
    "ExecuteTime": {
     "end_time": "2021-05-11T23:34:37.905658Z",
     "start_time": "2021-05-11T23:34:37.799066Z"
    }
   },
   "outputs": [],
   "source": [
    "def run(qc):\n",
    "    '''\n",
    "    runs the circuit, display results and return both\n",
    "    predicted class and probability distribution of prediction\n",
    "    '''\n",
    "\n",
    "    backend = Aer.get_backend(\"qasm_simulator\")\n",
    "    \n",
    "    n_shots = 1e4\n",
    "\n",
    "    job = execute(qc, backend, shots=n_shots, seed_simulator=42)\n",
    "    results = job.result()\n",
    "    counts = results.get_counts()\n",
    "\n",
    "    # filtering out measurements of ancila = |1> (last register)\n",
    "    keys = list(counts.keys()).copy()\n",
    "    for key in keys:\n",
    "\n",
    "        if key[-1] == \"1\":\n",
    "\n",
    "            counts.pop(key)\n",
    "\n",
    "    show_figure(plot_histogram(counts, title=\"Results\", figsize=(12, 4)))\n",
    "\n",
    "    ####################################\n",
    "    # final prediction\n",
    "    \n",
    "    # dictionary of counts sorted by value (sbv), decreasing order...\n",
    "    counts_sbv = dict(sorted(counts.items(), key=lambda item: item[1], reverse=True))\n",
    "\n",
    "    # ...will have its first key (first [0]) corresponding to the class with highest count (thus, probability!)\n",
    "    # the key is of the form \"class ancilla\", thus, to get the actual class, get the first character (second [0])\n",
    "    y_pred = list(counts_sbv.keys())[0][0]\n",
    "\n",
    "    # also display probabilities (predict_proba)\n",
    "    n_norm = sum(list(counts.values()))\n",
    "    y_proba = {\"p(c={})\".format(classe[0]): count/n_norm for classe, count in counts_sbv.items()}\n",
    "    \n",
    "    print(\"\\nProbability of belonging to each class:\\n\")\n",
    "    \n",
    "    for k, v in y_proba.items():\n",
    "        \n",
    "        print(\"{} = {:.3f}\".format(k, v))\n",
    "    \n",
    "    print(\"\\n\")\n",
    "    print(\"*\"*30)\n",
    "    print(\"=\"*30)\n",
    "    print(\"*\"*30)\n",
    "    print(\"\\n\")\n",
    "    \n",
    "    print(\"Final prediction:\\n\")\n",
    "    print(\"y({}) = {}\".format(X_test, y_pred))\n",
    "    \n",
    "    return y_pred, y_proba"
   ]
  },
  {
   "cell_type": "markdown",
   "metadata": {},
   "source": [
    "______\n",
    "\n",
    "__Combining all steps in a single function__"
   ]
  },
  {
   "cell_type": "code",
   "execution_count": 14,
   "metadata": {
    "ExecuteTime": {
     "end_time": "2021-05-11T23:34:38.019928Z",
     "start_time": "2021-05-11T23:34:37.908030Z"
    }
   },
   "outputs": [],
   "source": [
    "def quantum_nearest_neighbors(qc, n, X_test, draw=False, draw_final=False):\n",
    "    \n",
    "    qc = step1(qc, draw)\n",
    "    \n",
    "    qc = step2(qc, n, draw)\n",
    "    \n",
    "    qc = step3(qc, n, draw)\n",
    "    \n",
    "    qc = step4(qc, draw)\n",
    "    \n",
    "    qc = measurement(qc, draw_final)\n",
    "    \n",
    "    y_pred, y_proba = run(qc)\n",
    "    \n",
    "    return y_pred, y_proba "
   ]
  },
  {
   "cell_type": "markdown",
   "metadata": {},
   "source": [
    "________\n",
    "________\n",
    "________"
   ]
  },
  {
   "cell_type": "markdown",
   "metadata": {},
   "source": [
    "### Let's test the algorithm!"
   ]
  },
  {
   "cell_type": "markdown",
   "metadata": {},
   "source": [
    "First, the same case implemented in the other notebook (the particular $N=n=4$ case, with balanced classes)"
   ]
  },
  {
   "cell_type": "code",
   "execution_count": 15,
   "metadata": {
    "ExecuteTime": {
     "end_time": "2021-05-11T23:34:40.616598Z",
     "start_time": "2021-05-11T23:34:38.022274Z"
    },
    "scrolled": false
   },
   "outputs": [
    {
     "data": {
      "image/png": "[encoded data removed]",
      "text/plain": [
       "<Figure size 864x288 with 1 Axes>"
      ]
     },
     "metadata": {
      "needs_background": "light"
     },
     "output_type": "display_data"
    },
    {
     "name": "stdout",
     "output_type": "stream",
     "text": [
      "\n",
      "Probability of belonging to each class:\n",
      "\n",
      "p(c=0) = 0.678\n",
      "p(c=1) = 0.322\n",
      "\n",
      "\n",
      "******************************\n",
      "==============================\n",
      "******************************\n",
      "\n",
      "\n",
      "Final prediction:\n",
      "\n",
      "y(0010) = 0\n"
     ]
    },
    {
     "data": {
      "text/plain": [
       "('0', {'p(c=0)': 0.6781312127236581, 'p(c=1)': 0.32186878727634194})"
      ]
     },
     "execution_count": 15,
     "metadata": {},
     "output_type": "execute_result"
    }
   ],
   "source": [
    "X = np.array([[0, 0, 0, 0],\n",
    "              [0, 0, 0, 1],\n",
    "              [1, 1, 1, 0],\n",
    "              [1, 1, 1, 1]])\n",
    "\n",
    "# balanced\n",
    "y = np.array([0, 0, 1, 1])\n",
    "\n",
    "#############################################\n",
    "\n",
    "X_test = \"0010\"\n",
    "\n",
    "#############################################\n",
    "\n",
    "qc, n = construct_initial_state(X, y, X_test)\n",
    "\n",
    "quantum_nearest_neighbors(qc, n, X_test)"
   ]
  },
  {
   "cell_type": "markdown",
   "metadata": {},
   "source": [
    "_____________"
   ]
  },
  {
   "cell_type": "markdown",
   "metadata": {},
   "source": [
    "Now, a larger, imbalanced case ($N=n=5$)"
   ]
  },
  {
   "cell_type": "code",
   "execution_count": 16,
   "metadata": {
    "ExecuteTime": {
     "end_time": "2021-05-11T23:34:50.194921Z",
     "start_time": "2021-05-11T23:34:40.618340Z"
    }
   },
   "outputs": [
    {
     "data": {
      "image/png": "[encoded data removed]",
      "text/plain": [
       "<Figure size 864x288 with 1 Axes>"
      ]
     },
     "metadata": {
      "needs_background": "light"
     },
     "output_type": "display_data"
    },
    {
     "name": "stdout",
     "output_type": "stream",
     "text": [
      "\n",
      "Probability of belonging to each class:\n",
      "\n",
      "p(c=1) = 0.685\n",
      "p(c=0) = 0.315\n",
      "\n",
      "\n",
      "******************************\n",
      "==============================\n",
      "******************************\n",
      "\n",
      "\n",
      "Final prediction:\n",
      "\n",
      "y(10101) = 1\n"
     ]
    },
    {
     "data": {
      "text/plain": [
       "('1', {'p(c=1)': 0.685126582278481, 'p(c=0)': 0.314873417721519})"
      ]
     },
     "execution_count": 16,
     "metadata": {},
     "output_type": "execute_result"
    }
   ],
   "source": [
    "X = np.array([[0, 0, 0, 0, 0],\n",
    "              [0, 0, 0, 1, 0],\n",
    "              [0, 0, 0, 1, 1],\n",
    "              [1, 1, 1, 1, 0],\n",
    "              [1, 1, 1, 1, 1]])\n",
    "\n",
    "# imbalanced\n",
    "y = np.array([0, 0, 0, 1, 1])\n",
    "\n",
    "#############################################\n",
    "\n",
    "X_test = \"10101\"\n",
    "\n",
    "#############################################\n",
    "\n",
    "qc, n = construct_initial_state(X, y, X_test)\n",
    "\n",
    "quantum_nearest_neighbors(qc, n, X_test)"
   ]
  },
  {
   "cell_type": "markdown",
   "metadata": {},
   "source": [
    "Result makes sense! `10101` indeed seems to belong to class 1"
   ]
  },
  {
   "cell_type": "markdown",
   "metadata": {},
   "source": [
    "________"
   ]
  },
  {
   "cell_type": "markdown",
   "metadata": {},
   "source": [
    "Finally, a more complicated, assymetric and imbalanced case ($N=5$, $n=6$)"
   ]
  },
  {
   "cell_type": "code",
   "execution_count": 17,
   "metadata": {
    "ExecuteTime": {
     "end_time": "2021-05-11T23:35:32.037586Z",
     "start_time": "2021-05-11T23:34:50.196559Z"
    }
   },
   "outputs": [
    {
     "data": {
      "image/png": "[encoded data removed]",
      "text/plain": [
       "<Figure size 864x288 with 1 Axes>"
      ]
     },
     "metadata": {
      "needs_background": "light"
     },
     "output_type": "display_data"
    },
    {
     "name": "stdout",
     "output_type": "stream",
     "text": [
      "\n",
      "Probability of belonging to each class:\n",
      "\n",
      "p(c=0) = 0.781\n",
      "p(c=1) = 0.219\n",
      "\n",
      "\n",
      "******************************\n",
      "==============================\n",
      "******************************\n",
      "\n",
      "\n",
      "Final prediction:\n",
      "\n",
      "y(001111) = 0\n"
     ]
    },
    {
     "data": {
      "text/plain": [
       "('0', {'p(c=0)': 0.7807118254879449, 'p(c=1)': 0.21928817451205512})"
      ]
     },
     "execution_count": 17,
     "metadata": {},
     "output_type": "execute_result"
    }
   ],
   "source": [
    "X = np.array([[0, 0, 0, 0, 0, 0],\n",
    "              [0, 0, 0, 1, 0, 1],\n",
    "              [0, 0, 0, 1, 1, 0],\n",
    "              [1, 1, 1, 1, 0, 1],\n",
    "              [1, 1, 1, 1, 1, 0]])\n",
    "\n",
    "# imbalanced\n",
    "y = np.array([0, 0, 0, 1, 1])\n",
    "\n",
    "#############################################\n",
    "\n",
    "X_test = \"001111\"\n",
    "\n",
    "#############################################\n",
    "\n",
    "qc, n = construct_initial_state(X, y, X_test)\n",
    "\n",
    "quantum_nearest_neighbors(qc, n, X_test)"
   ]
  },
  {
   "cell_type": "markdown",
   "metadata": {},
   "source": [
    "This one took a bit longer to run, but also yielded a reasonable result! The test point `001111` indeed does seem to belong to class 0! Nice!"
   ]
  },
  {
   "cell_type": "markdown",
   "metadata": {},
   "source": [
    "___________\n"
   ]
  },
  {
   "cell_type": "markdown",
   "metadata": {},
   "source": [
    "Let's try a more ambiguous test point..."
   ]
  },
  {
   "cell_type": "code",
   "execution_count": 18,
   "metadata": {
    "ExecuteTime": {
     "end_time": "2021-05-11T23:36:17.407196Z",
     "start_time": "2021-05-11T23:35:32.039860Z"
    }
   },
   "outputs": [
    {
     "data": {
      "image/png": "[encoded data removed]",
      "text/plain": [
       "<Figure size 864x288 with 1 Axes>"
      ]
     },
     "metadata": {
      "needs_background": "light"
     },
     "output_type": "display_data"
    },
    {
     "name": "stdout",
     "output_type": "stream",
     "text": [
      "\n",
      "Probability of belonging to each class:\n",
      "\n",
      "p(c=0) = 0.890\n",
      "p(c=1) = 0.110\n",
      "\n",
      "\n",
      "******************************\n",
      "==============================\n",
      "******************************\n",
      "\n",
      "\n",
      "Final prediction:\n",
      "\n",
      "y(001100) = 0\n"
     ]
    },
    {
     "data": {
      "text/plain": [
       "('0', {'p(c=0)': 0.8900596421471173, 'p(c=1)': 0.1099403578528827})"
      ]
     },
     "execution_count": 18,
     "metadata": {},
     "output_type": "execute_result"
    }
   ],
   "source": [
    "# modified dataset to cause ambiguity \n",
    "# (notice how many examples have the central \"11\")\n",
    "X = np.array([[0, 0, 0, 0, 0, 0],\n",
    "              [0, 0, 1, 1, 0, 1],\n",
    "              [0, 0, 1, 1, 1, 0],\n",
    "              [1, 1, 1, 1, 0, 1],\n",
    "              [1, 1, 1, 1, 1, 0]])\n",
    "\n",
    "# imbalanced\n",
    "y = np.array([0, 0, 0, 1, 1])\n",
    "\n",
    "#############################################\n",
    "\n",
    "X_test = \"001100\"\n",
    "\n",
    "#############################################\n",
    "\n",
    "qc, n = construct_initial_state(X, y, X_test)\n",
    "\n",
    "quantum_nearest_neighbors(qc, n, X_test)"
   ]
  },
  {
   "cell_type": "markdown",
   "metadata": {},
   "source": [
    "It's pretty confident on class 0... Maybe it's because of the class imbalance...\n",
    "\n",
    "Let's try the same ambiguity, but adding another observation to balance the classes:"
   ]
  },
  {
   "cell_type": "code",
   "execution_count": 19,
   "metadata": {
    "ExecuteTime": {
     "end_time": "2021-05-11T23:37:12.765469Z",
     "start_time": "2021-05-11T23:36:17.409668Z"
    }
   },
   "outputs": [
    {
     "data": {
      "image/png": "[encoded data removed]",
      "text/plain": [
       "<Figure size 864x288 with 1 Axes>"
      ]
     },
     "metadata": {
      "needs_background": "light"
     },
     "output_type": "display_data"
    },
    {
     "name": "stdout",
     "output_type": "stream",
     "text": [
      "\n",
      "Probability of belonging to each class:\n",
      "\n",
      "p(c=0) = 0.738\n",
      "p(c=1) = 0.262\n",
      "\n",
      "\n",
      "******************************\n",
      "==============================\n",
      "******************************\n",
      "\n",
      "\n",
      "Final prediction:\n",
      "\n",
      "y(001100) = 0\n"
     ]
    },
    {
     "data": {
      "text/plain": [
       "('0', {'p(c=0)': 0.7377733598409543, 'p(c=1)': 0.26222664015904573})"
      ]
     },
     "execution_count": 19,
     "metadata": {},
     "output_type": "execute_result"
    }
   ],
   "source": [
    "# modified dataset to cause ambiguity \n",
    "# (notice how many examples have the central \"11\")\n",
    "X = np.array([[0, 0, 0, 0, 0, 0],\n",
    "              [0, 0, 1, 1, 0, 1],\n",
    "              [0, 0, 1, 1, 1, 0],\n",
    "              [1, 1, 1, 1, 0, 1],\n",
    "              [1, 1, 1, 1, 1, 0],\n",
    "              [1, 1, 0, 0, 1, 1]])\n",
    "\n",
    "# imbalanced\n",
    "y = np.array([0, 0, 0, 1, 1, 1])\n",
    "\n",
    "#############################################\n",
    "\n",
    "X_test = \"001100\"\n",
    "\n",
    "#############################################\n",
    "\n",
    "qc, n = construct_initial_state(X, y, X_test)\n",
    "\n",
    "quantum_nearest_neighbors(qc, n, X_test)"
   ]
  },
  {
   "cell_type": "markdown",
   "metadata": {},
   "source": [
    "It's still pretty confident on class 0, but the probability dropped, given the modification in the dataset. Interesting!"
   ]
  },
  {
   "cell_type": "markdown",
   "metadata": {},
   "source": [
    "___________"
   ]
  }
 ],
 "metadata": {
  "kernelspec": {
   "display_name": "Python 3",
   "language": "python",
   "name": "python3"
  },
  "language_info": {
   "codemirror_mode": {
    "name": "ipython",
    "version": 3
   },
   "file_extension": ".py",
   "mimetype": "text/x-python",
   "name": "python",
   "nbconvert_exporter": "python",
   "pygments_lexer": "ipython3",
   "version": "3.8.5"
  }
 },
 "nbformat": 4,
 "nbformat_minor": 4
}
